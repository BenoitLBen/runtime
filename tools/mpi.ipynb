{
 "metadata": {
  "name": "",
  "signature": "sha256:c5fcf14bb6d0de4c97ed84dbe162abdd10f25b2ebd188a2763e12c2535edc180"
 },
 "nbformat": 3,
 "nbformat_minor": 0,
 "worksheets": [
  {
   "cells": [
    {
     "cell_type": "code",
     "collapsed": false,
     "input": [
      "cd /Users/lize/data_these/cone_sphere/"
     ],
     "language": "python",
     "metadata": {},
     "outputs": [
      {
       "output_type": "stream",
       "stream": "stdout",
       "text": [
        "/Users/lize/data_these/cone_sphere\n"
       ]
      }
     ],
     "prompt_number": 1
    },
    {
     "cell_type": "code",
     "collapsed": false,
     "input": [
      "import numpy as np\n",
      "import matplotlib.pylab as plt"
     ],
     "language": "python",
     "metadata": {},
     "outputs": [],
     "prompt_number": 2
    },
    {
     "cell_type": "code",
     "collapsed": false,
     "input": [
      "def commTimeline(filename):\n",
      "    a = np.genfromtxt(filename)\n",
      "    a[:, 0] /= 1e9\n",
      "    a[:, 1] = np.cumsum(a[:, 1])\n",
      "    return a"
     ],
     "language": "python",
     "metadata": {},
     "outputs": [],
     "prompt_number": 24
    },
    {
     "cell_type": "code",
     "collapsed": false,
     "input": [
      "plt.figure()\n",
      "for i in range(4):\n",
      "    a = commTimeline('./send-%03d.old.txt' % i)\n",
      "    plt.plot(a[:, 0], a[:, 1])\n",
      "for i in range(4):\n",
      "    a = commTimeline('./send-%03d.txt' % i)\n",
      "    plt.plot(a[:, 0], a[:, 1])\n",
      "\n",
      "plt.show()"
     ],
     "language": "python",
     "metadata": {},
     "outputs": [],
     "prompt_number": 41
    },
    {
     "cell_type": "code",
     "collapsed": false,
     "input": [
      "plt.plot(np.cumsum(a[:, 1]))\n",
      "plt.show()"
     ],
     "language": "python",
     "metadata": {},
     "outputs": [],
     "prompt_number": 21
    },
    {
     "cell_type": "code",
     "collapsed": false,
     "input": [
      "a = np.genfromtxt('./send-001.cache.txt')\n",
      "m = np.cumsum(a[:, 1])\n",
      "plt.plot(a[:, 0], m)\n",
      "\n",
      "a2 = np.genfromtxt('./send-001.txt')\n",
      "m2 = np.cumsum(a2[:, 1])\n",
      "plt.plot(a2[:, 0] - a2[0, 0] + a[0, 0], m2)\n",
      "\n",
      "plt.show()"
     ],
     "language": "python",
     "metadata": {},
     "outputs": [],
     "prompt_number": 3
    },
    {
     "cell_type": "code",
     "collapsed": false,
     "input": [],
     "language": "python",
     "metadata": {},
     "outputs": [],
     "prompt_number": 15
    },
    {
     "cell_type": "code",
     "collapsed": false,
     "input": [],
     "language": "python",
     "metadata": {},
     "outputs": []
    }
   ],
   "metadata": {}
  }
 ]
}
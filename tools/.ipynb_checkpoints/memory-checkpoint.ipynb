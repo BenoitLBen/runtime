{
 "metadata": {
  "name": "",
  "signature": "sha256:ee06b8aac9b4e555cfd1b9594f1e4b4e011e3372189fbde6e24d58b7e7413841"
 },
 "nbformat": 3,
 "nbformat_minor": 0,
 "worksheets": [
  {
   "cells": [
    {
     "cell_type": "code",
     "collapsed": false,
     "input": [
      "import numpy as np\n",
      "import matplotlib\n",
      "import matplotlib.pylab as plt"
     ],
     "language": "python",
     "metadata": {},
     "outputs": [],
     "prompt_number": 1
    },
    {
     "cell_type": "code",
     "collapsed": false,
     "input": [
      "import memory_analysis as mem"
     ],
     "language": "python",
     "metadata": {},
     "outputs": [],
     "prompt_number": 2
    },
    {
     "cell_type": "code",
     "collapsed": false,
     "input": [
      "def plotMemory(filename, label=''):\n",
      "    m = mem.readMemoryFile(filename)\n",
      "    t = mem.consumptionTimeline(m)\n",
      "    plt.plot(t[:, 0] / 1e9, t[:, 1], label=label)"
     ],
     "language": "python",
     "metadata": {},
     "outputs": [],
     "prompt_number": 3
    },
    {
     "cell_type": "code",
     "collapsed": false,
     "input": [
      "#m = mem.readMemoryFile('/Users/lize/data_these/cone_sphere/memory-001.purgenormal.txt')\n",
      "#t = mem.consumptionTimeline(m)\n",
      "#plt.plot(t[:, 0] / 1e9, t[:, 1], label='normal')\n",
      "\n",
      "m2 = mem.readMemoryFile('/Users/lize/data_these/cone_sphere/memory-001.nopurge.txt')\n",
      "t2 = mem.consumptionTimeline(m2)\n",
      "plt.plot(t2[:, 0] / 1e9, t2[:, 1], label='nopurge')\n",
      "\n",
      "m3 = mem.readMemoryFile('/Users/lize/data_these/cone_sphere/memory-001.purgehigh.txt')\n",
      "t3 = mem.consumptionTimeline(m3)\n",
      "plt.plot(t3[:, 0] / 1e9, t3[:, 1], label='prio')\n",
      "\n",
      "m3 = mem.readMemoryFile('/Users/lize/data_these/cone_sphere/memory-001.txt')\n",
      "t3 = mem.consumptionTimeline(m3)\n",
      "plt.plot(t3[:, 0] / 1e9, t3[:, 1], label='with MPI')\n",
      "\n",
      "plt.legend()\n",
      "plt.show()\n"
     ],
     "language": "python",
     "metadata": {},
     "outputs": [],
     "prompt_number": 15
    },
    {
     "cell_type": "code",
     "collapsed": false,
     "input": [
      "plt.figure()\n",
      "for i in range(2):\n",
      "    m = mem.readMemoryFile('/Users/lize/data_these/cone_sphere/memory-%03d.txt' % i)\n",
      "    t = np.cumsum(m[:, 1])\n",
      "    plt.plot(m[:, 0], t)\n",
      "m = mem.readMemoryFile('/Users/lize/data_these/cone_sphere/memory-shared.txt')\n",
      "t = np.cumsum(m[:, 1])\n",
      "plt.plot(m[:, 0], t)\n",
      "plt.show()"
     ],
     "language": "python",
     "metadata": {},
     "outputs": [],
     "prompt_number": 36
    },
    {
     "cell_type": "code",
     "collapsed": false,
     "input": [
      "m3 = mem.readMemoryFile('/Users/lize/data_these/cone_sphere/memory-001.txt')\n",
      "t3 = mem.consumptionTimeline(m3)\n",
      "plt.plot(t3[:, 0] / 1e9, t3[:, 1], label='with MPI')\n",
      "\n",
      "plt.legend()\n",
      "plt.show()"
     ],
     "language": "python",
     "metadata": {},
     "outputs": [],
     "prompt_number": 16
    },
    {
     "cell_type": "code",
     "collapsed": false,
     "input": [
      "m = mem.readMemoryFile('/Users/lize/data_these/cone_sphere/memory-000.txt')\n",
      "t = mem.consumptionTimeline(m)\n",
      "plt.plot(t[:, 0] / 1e9, t[:, 1], label='Shared memory')\n",
      "\n",
      "m = mem.readMemoryFile('/Users/lize/data_these/cone_sphere/memory-001.txt')\n",
      "t = mem.consumptionTimeline(m)\n",
      "plt.plot(t[:, 0] / 1e9, t[:, 1], label='MPI, no flush')\n",
      "\n",
      "m = mem.readMemoryFile('/Users/lize/data_these/cone_sphere/memory-001.cache.mpi.txt')\n",
      "t = mem.consumptionTimeline(m)\n",
      "plt.plot(t[:, 0] / 1e9, t[:, 1], label='MPI')\n",
      "\n",
      "m = mem.readMemoryFile('/Users/lize/data_these/cone_sphere/memory-001.cache.nompi.txt')\n",
      "t = mem.consumptionTimeline(m)\n",
      "plt.plot(t[:, 0] / 1e9, t[:, 1], label='MPI no pack()')\n",
      "\n",
      "plt.xlabel('Temps (s)')\n",
      "plt.ylabel('Memoire (o)')\n",
      "plt.legend(loc='lower right')\n",
      "\n",
      "plt.show()"
     ],
     "language": "python",
     "metadata": {},
     "outputs": [],
     "prompt_number": 23
    },
    {
     "cell_type": "code",
     "collapsed": false,
     "input": [
      "plt.figure()\n",
      "\n",
      "#plt.plot(t[:, 0] / 1e9, t[:, 1], label='MPI, no flush')\n",
      "\n",
      "#m2 = mem.readMemoryFile('/Users/lize/data_these/cone_sphere/memory-000.txt')\n",
      "#t2 = mem.consumptionTimeline(m2)\n",
      "#plt.plot(t2[:, 0] / 1e9, t2[:, 1], label='1 MPI')\n",
      "\n",
      "#m2 = mem.readMemoryFile('/Users/lize/data_these/cone_sphere/memory-001.isend.txt')\n",
      "#t2 = mem.consumptionTimeline(m2)\n",
      "#plt.plot(t2[:, 0] / 1e9, t2[:, 1], label='Noeud 1, Isend')\n",
      "\n",
      "m2 = mem.readMemoryFile('/Users/lize/data_these/cone_sphere/memory-000.txt')\n",
      "t2 = mem.consumptionTimeline(m2)\n",
      "plt.plot(t2[:, 0] / 1e9, t2[:, 1], label='2 MPI')\n",
      "\n",
      "#m2 = mem.readMemoryFile('/Users/lize/data_these/cone_sphere/memory-000.4.txt')\n",
      "#t2 = mem.consumptionTimeline(m2)\n",
      "#plt.plot(t2[:, 0] / 1e9, t2[:, 1], label='4 MPI')\n",
      "\n",
      "#m2 = mem.readMemoryFile('/Users/lize/data_these/cone_sphere/memory-000.8.txt')\n",
      "#t2 = mem.consumptionTimeline(m2)\n",
      "#plt.plot(t2[:, 0] / 1e9, t2[:, 1], label='8 MPI')\n",
      "\n",
      "\n",
      "#m2 = mem.readMemoryFile('/Users/lize/data_these/cone_sphere/memory-001.txt')\n",
      "#t2 = mem.consumptionTimeline(m2)\n",
      "#plt.plot(t2[:, 0] / 1e9, t2[:, 1], label='Noeud 1, Issend')\n",
      "\n",
      "plt.xlabel('Temps (s)')\n",
      "plt.ylabel('Memoire (o)')\n",
      "plt.legend(loc='lower right')\n",
      "\n",
      "plt.show()"
     ],
     "language": "python",
     "metadata": {},
     "outputs": [],
     "prompt_number": 58
    },
    {
     "cell_type": "code",
     "collapsed": false,
     "input": [
      "import pandas as pd"
     ],
     "language": "python",
     "metadata": {},
     "outputs": [],
     "prompt_number": 30
    },
    {
     "cell_type": "code",
     "collapsed": false,
     "input": [
      "%time a = pd.read_csv('/Users/lize/data_these/cone_sphere/memory-000.shared.txt', delimiter=' ')"
     ],
     "language": "python",
     "metadata": {},
     "outputs": [
      {
       "output_type": "stream",
       "stream": "stdout",
       "text": [
        "CPU times: user 2.91 s, sys: 188 ms, total: 3.1 s\n",
        "Wall time: 3.1 s\n"
       ]
      }
     ],
     "prompt_number": 33
    },
    {
     "cell_type": "code",
     "collapsed": false,
     "input": [
      "%time np.genfromtxt('/Users/lize/data_these/cone_sphere/memory-000.shared.txt', delimiter=' ')"
     ],
     "language": "python",
     "metadata": {},
     "outputs": [
      {
       "output_type": "stream",
       "stream": "stdout",
       "text": [
        "CPU times: user 38.9 s, sys: 1.73 s, total: 40.6 s\n",
        "Wall time: 40.6 s\n"
       ]
      },
      {
       "metadata": {},
       "output_type": "pyout",
       "prompt_number": 32,
       "text": [
        "array([[  0.00000000e+00,   3.76000000e+03],\n",
        "       [  4.86500000e+04,   1.87200000e+03],\n",
        "       [  1.32650000e+05,   1.87200000e+03],\n",
        "       ..., \n",
        "       [  1.01649573e+11,  -2.78480000e+04],\n",
        "       [  1.01649573e+11,  -2.78480000e+04],\n",
        "       [  1.01649574e+11,  -2.78480000e+04]])"
       ]
      }
     ],
     "prompt_number": 32
    },
    {
     "cell_type": "code",
     "collapsed": false,
     "input": [
      "a.values"
     ],
     "language": "python",
     "metadata": {},
     "outputs": [
      {
       "metadata": {},
       "output_type": "pyout",
       "prompt_number": 34,
       "text": [
        "array([[       48650,         1872],\n",
        "       [      132650,         1872],\n",
        "       [      580664,         3760],\n",
        "       ..., \n",
        "       [101649572750,       -27848],\n",
        "       [101649573266,       -27848],\n",
        "       [101649573747,       -27848]])"
       ]
      }
     ],
     "prompt_number": 34
    },
    {
     "cell_type": "code",
     "collapsed": false,
     "input": [
      "(2700 * 13.4 + 2000 * 13 - 10000) / 1.5"
     ],
     "language": "python",
     "metadata": {},
     "outputs": [
      {
       "metadata": {},
       "output_type": "pyout",
       "prompt_number": 61,
       "text": [
        "34786.666666666664"
       ]
      }
     ],
     "prompt_number": 61
    },
    {
     "cell_type": "code",
     "collapsed": false,
     "input": [
      "plt.figure()\n",
      "plotMemory('/Users/lize/data_these/cone_sphere/memory-000.txt')\n",
      "plotMemory('/Users/lize/data_these/cone_sphere/memory-000.runtime.txt')\n",
      "plt.show()"
     ],
     "language": "python",
     "metadata": {},
     "outputs": [],
     "prompt_number": 7
    },
    {
     "cell_type": "code",
     "collapsed": false,
     "input": [
      "a = np.genfromtxt('/Users/lize/data_these/cone_sphere/data_size.txt')\n",
      "\n",
      "plt.figure()\n",
      "plotMemory('/Users/lize/data_these/cone_sphere/memory-000.txt')\n",
      "\n",
      "#plotMemory('/Users/lize/data_these/cone_sphere/data_read.txt')\n",
      "#plotMemory('/Users/lize/data_these/cone_sphere/data_written.txt')\n",
      "\n",
      "#plt.plot(a[:, 0] / 1e9, a[:, 1], 'r.', markersize=.1)\n",
      "plt.ylim(ymin=0)\n",
      "\n",
      "plt.show()"
     ],
     "language": "python",
     "metadata": {},
     "outputs": [],
     "prompt_number": 7
    },
    {
     "cell_type": "code",
     "collapsed": false,
     "input": [
      "a = np.genfromtxt('/Users/lize/data_these/cone_sphere/data_size.txt')\n",
      "a.shape"
     ],
     "language": "python",
     "metadata": {},
     "outputs": [
      {
       "metadata": {},
       "output_type": "pyout",
       "prompt_number": 10,
       "text": [
        "(107702, 2)"
       ]
      }
     ],
     "prompt_number": 10
    },
    {
     "cell_type": "code",
     "collapsed": false,
     "input": [
      "plt.show()"
     ],
     "language": "python",
     "metadata": {},
     "outputs": [],
     "prompt_number": 21
    },
    {
     "cell_type": "code",
     "collapsed": false,
     "input": [
      "plt.figure(figsize=(14,6))\n",
      "plt.title(u'Consommation m\u00e9moire Assemblage + $LU$')\n",
      "plt.xlabel(\"Temps (s)\")\n",
      "plt.ylabel(u\"M\u00e9moire (o)\")\n",
      "plotMemory('/Users/lize/data_these/cone_sphere/memory-eager.txt', 'Eager')\n",
      "plotMemory('/Users/lize/data_these/cone_sphere/memory-prio-bad.txt', 'Prio')\n",
      "plotMemory('/Users/lize/data_these/cone_sphere/memory-prio-good.txt', 'Prio + Added deps')\n",
      "plt.ylim(ymin=0)\n",
      "plt.legend()\n",
      "plt.savefig('/Users/lize/data_these/cone_sphere/eager-prio-good.png', dpi=300)\n",
      "#plt.show()"
     ],
     "language": "python",
     "metadata": {},
     "outputs": [],
     "prompt_number": 26
    },
    {
     "cell_type": "code",
     "collapsed": false,
     "input": [
      "plt.figure(figsize=(14,6))\n",
      "plt.title(u'Consommation m\u00e9moire Assemblage + $LU$, avec \"flush\"')\n",
      "plt.xlabel(\"Temps (s)\")\n",
      "plt.ylabel(u\"M\u00e9moire (o)\")\n",
      "plotMemory('/Users/lize/data_these/cone_sphere/memory-shared.txt', 'no OOC flush')\n",
      "plotMemory('/Users/lize/data_these/cone_sphere/memory-000.txt', 'OOC flush')\n",
      "#plotMemory('/Users/lize/data_these/cone_sphere/memory-mpi-flush.txt', 'MPI, p = 2, avec flush')\n",
      "\n",
      "#plotMemory('/Users/lize/data_these/cone_sphere/memory-prio-bad.txt', 'Prio')\n",
      "#plotMemory('/Users/lize/data_these/cone_sphere/memory-prio-good.txt', 'Prio + Added deps')\n",
      "plt.ylim(ymin=0)\n",
      "plt.legend(loc='upper left')\n",
      "plt.savefig('/Users/lize/data_these/cone_sphere/ooc-flush.png', dpi=300)\n",
      "plt.show()\n"
     ],
     "language": "python",
     "metadata": {},
     "outputs": [],
     "prompt_number": 4
    },
    {
     "cell_type": "code",
     "collapsed": false,
     "input": [
      "plt.figure(figsize=(14,6))\n",
      "plt.title(u'Consommation m\u00e9moire Assemblage + $LU$, avec \"flush\"')\n",
      "\n",
      "plt.subplot(2, 1, 1)\n",
      "plotMemory('/Users/lize/data_these/cone_sphere/memory-000.txt', 'Memoire')\n",
      "plt.ylim(ymin=0)\n",
      "(xmin, xmax) = plt.xlim()\n",
      "plt.legend(loc='upper left')\n",
      "plt.xlabel(\"Temps (s)\")\n",
      "plt.ylabel(u\"M\u00e9moire (o)\")\n",
      "\n",
      "plt.subplot(2, 1, 2)\n",
      "plotMemory('/Users/lize/data_these/cone_sphere/data_read.txt', 'Read')\n",
      "plotMemory('/Users/lize/data_these/cone_sphere/data_written.txt', 'Written')\n",
      "plt.ylim(ymin=0)\n",
      "plt.xlim(xmin, xmax)\n",
      "plt.xlabel(\"Temps (s)\")\n",
      "plt.ylabel(u\"M\u00e9moire (o)\")\n",
      "plt.legend(loc='upper left')\n",
      "\n",
      "#plt.savefig('/Users/lize/data_these/cone_sphere/memory-flush.png', dpi=300)\n",
      "plt.show()"
     ],
     "language": "python",
     "metadata": {},
     "outputs": [],
     "prompt_number": 25
    },
    {
     "cell_type": "code",
     "collapsed": false,
     "input": [],
     "language": "python",
     "metadata": {},
     "outputs": []
    }
   ],
   "metadata": {}
  }
 ]
}